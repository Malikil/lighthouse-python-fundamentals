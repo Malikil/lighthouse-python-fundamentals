{
 "cells": [
  {
   "cell_type": "code",
   "execution_count": 1,
   "id": "80725b44-1f68-445a-b743-715e0d779755",
   "metadata": {},
   "outputs": [],
   "source": [
    "import numpy as np"
   ]
  },
  {
   "cell_type": "code",
   "execution_count": 5,
   "id": "8c04fc73-26ad-457f-bd98-e5eb7fae82e1",
   "metadata": {},
   "outputs": [
    {
     "name": "stdout",
     "output_type": "stream",
     "text": [
      "[1 2 3]\n",
      "1\n",
      "(3,)\n",
      "int32\n"
     ]
    }
   ],
   "source": [
    "a = np.array([1, 2, 3])\n",
    "print(a)\n",
    "print(a.ndim)  # Number of dimensions\n",
    "print(a.shape) # Number of items per dimension\n",
    "print(a.dtype) # Internal data type"
   ]
  },
  {
   "cell_type": "code",
   "execution_count": 9,
   "id": "e32ef9ba-b6cb-42dc-96cc-f7861100d987",
   "metadata": {},
   "outputs": [
    {
     "name": "stdout",
     "output_type": "stream",
     "text": [
      "int16\n",
      "2\n",
      "3\n",
      "6\n"
     ]
    }
   ],
   "source": [
    "b = np.array([1, 2, 3], dtype='int16')\n",
    "print(b.dtype)\n",
    "print(b.itemsize) # Bytes per item\n",
    "print(b.size)     # Number of items\n",
    "print(b.nbytes)   # Total memory taken"
   ]
  },
  {
   "cell_type": "code",
   "execution_count": 12,
   "id": "3f156155-97b2-4856-bbbe-1b5d9aa0f618",
   "metadata": {},
   "outputs": [
    {
     "name": "stdout",
     "output_type": "stream",
     "text": [
      "(2, 3)\n",
      "3\n",
      "3\n",
      "[4 5 6]\n",
      "[1 4]\n"
     ]
    }
   ],
   "source": [
    "c = np.array([[1, 2, 3], [4, 5, 6]])\n",
    "print(c.shape)\n",
    "print(c[0, 2]) # Use comma indexing, a-la-c#\n",
    "print(c[0, -1]) # Negative indexing accepted\n",
    "print(c[1, :])\n",
    "print(c[:, 0]) # Can use slices in either index location"
   ]
  },
  {
   "cell_type": "code",
   "execution_count": 14,
   "id": "4ba8e37e-f7b0-4401-9179-7f706ed05fcb",
   "metadata": {},
   "outputs": [
    {
     "name": "stdout",
     "output_type": "stream",
     "text": [
      "[[1 2 3]\n",
      " [4 5 6]\n",
      " [7 8 9]]\n",
      "[[ 1 -1  3]\n",
      " [ 4 -1  6]\n",
      " [ 7 -1  9]]\n"
     ]
    }
   ],
   "source": [
    "d = np.array([[1, 2, 3], [4, 5, 6], [7, 8, 9]])\n",
    "print(d)\n",
    "\n",
    "d[:, 1] = -1 # Array is always properly shaped, this will assign to the entire column\n",
    "print(d)"
   ]
  },
  {
   "cell_type": "markdown",
   "id": "8f8bc8a2-f529-4ef3-9757-b680d24f93e5",
   "metadata": {},
   "source": [
    "-----"
   ]
  },
  {
   "cell_type": "code",
   "execution_count": 18,
   "id": "a6803a7f-94ce-4bc7-849d-1773e0e7f076",
   "metadata": {},
   "outputs": [
    {
     "name": "stdout",
     "output_type": "stream",
     "text": [
      "[[0. 0. 0. 0.]\n",
      " [0. 0. 0. 0.]\n",
      " [0. 0. 0. 0.]]\n",
      "[[0 0 0 0]\n",
      " [0 0 0 0]\n",
      " [0 0 0 0]]\n"
     ]
    }
   ],
   "source": [
    "zeros = np.zeros((3, 4)) # Pass shape, as would be seen from arr.shape. Must be a tuple\n",
    "print(zeros)\n",
    "\n",
    "zeros = np.zeros((3, 4), dtype='int32') # Float seems to be assumed, specify int if desired\n",
    "print(zeros)"
   ]
  },
  {
   "cell_type": "code",
   "execution_count": 20,
   "id": "ab10cca4-144e-424d-9729-9331ddc898c7",
   "metadata": {},
   "outputs": [
    {
     "name": "stdout",
     "output_type": "stream",
     "text": [
      "[[1 1 1]\n",
      " [1 1 1]\n",
      " [1 1 1]]\n"
     ]
    }
   ],
   "source": [
    "ones = np.ones((3, 3), dtype='int32')\n",
    "print(ones)"
   ]
  },
  {
   "cell_type": "code",
   "execution_count": 21,
   "id": "7fface48-0195-4556-8223-3e901da8b1c2",
   "metadata": {},
   "outputs": [
    {
     "name": "stdout",
     "output_type": "stream",
     "text": [
      "[[5 5 5]\n",
      " [5 5 5]\n",
      " [5 5 5]]\n"
     ]
    }
   ],
   "source": [
    "other = np.full((3, 3), 5) # Data type is taken from given value\n",
    "print(other)"
   ]
  },
  {
   "cell_type": "code",
   "execution_count": 23,
   "id": "9071cd66-24c5-40e2-950d-7944ad32ab0c",
   "metadata": {},
   "outputs": [
    {
     "name": "stdout",
     "output_type": "stream",
     "text": [
      "[[10 10 10]\n",
      " [10 10 10]\n",
      " [10 10 10]]\n"
     ]
    }
   ],
   "source": [
    "fromOther = np.full_like(other, 10) # Copy shape from an existing array\n",
    "print(fromOther)"
   ]
  },
  {
   "cell_type": "code",
   "execution_count": 27,
   "id": "dbfa5501-f343-4ce6-a233-1ae5a8b42470",
   "metadata": {},
   "outputs": [
    {
     "name": "stdout",
     "output_type": "stream",
     "text": [
      "[[0.94454838 0.61978553 0.98849193 0.54947219]\n",
      " [0.37755576 0.35040561 0.54133499 0.91594589]\n",
      " [0.64107319 0.69218347 0.31808207 0.85745347]]\n",
      "[[0.83290591 0.06178131 0.31897183]\n",
      " [0.92577382 0.75387144 0.57397115]\n",
      " [0.72846687 0.94395503 0.11563493]]\n",
      "[[6 1 3]\n",
      " [7 0 3]\n",
      " [8 6 0]]\n",
      "[[ 1  1  2]\n",
      " [-5  3 -1]\n",
      " [ 2  4 -3]]\n"
     ]
    }
   ],
   "source": [
    "rand = np.random.rand(3, 4) # ! Shape isn't in a tuple, the dimensions are passed directly !\n",
    "print(rand)\n",
    "\n",
    "rand = np.random.random_sample(other.shape) # Copy shape from existing array\n",
    "print(rand)\n",
    "\n",
    "rand = np.random.randint(10, size=(3, 3)) # First arg is exclusive upper bound\n",
    "print(rand)\n",
    "\n",
    "rand = np.random.randint(-5, 5, size=(3, 3)) # Specify range of ints as first two args\n",
    "print(rand)"
   ]
  },
  {
   "cell_type": "code",
   "execution_count": 29,
   "id": "f8dc3f92-66fa-4e06-a283-fea77df661c2",
   "metadata": {},
   "outputs": [
    {
     "name": "stdout",
     "output_type": "stream",
     "text": [
      "[[1. 0. 0. 0. 0.]\n",
      " [0. 1. 0. 0. 0.]\n",
      " [0. 0. 1. 0. 0.]\n",
      " [0. 0. 0. 1. 0.]\n",
      " [0. 0. 0. 0. 1.]]\n"
     ]
    }
   ],
   "source": [
    "print(np.identity(5)) # Identity"
   ]
  },
  {
   "cell_type": "code",
   "execution_count": 36,
   "id": "f856c709-47a1-43cb-b674-d2ce9d05e47e",
   "metadata": {},
   "outputs": [
    {
     "name": "stdout",
     "output_type": "stream",
     "text": [
      "[1 2 3]\n",
      "[[1 2 3]\n",
      " [1 2 3]\n",
      " [1 2 3]]\n",
      "[[1 1 1 2 2 2 3 3 3]]\n",
      "[[1 2 3]\n",
      " [4 5 6]]\n",
      "[[[1 2 3]\n",
      "  [1 2 3]\n",
      "  [4 5 6]\n",
      "  [4 5 6]]]\n"
     ]
    }
   ],
   "source": [
    "print(a)\n",
    "rep0 = np.repeat([a], 3, axis=0) # Repeat the given array some number of times\n",
    "print(rep0)\n",
    "\n",
    "# Each element at the given level (axis) is expanded into the next cells some number of times\n",
    "rep1 = np.repeat([a], 3, axis=1)\n",
    "print(rep1)\n",
    "\n",
    "print(c)\n",
    "rep2 = np.repeat([c], 2, axis=1)\n",
    "# Base shape [\n",
    "#   [\n",
    "#     [1 2 3]\n",
    "#     [4 5 6]\n",
    "#   ]\n",
    "# ]\n",
    "# Expected [\n",
    "#   [\n",
    "#     [1 2 3] [1 2 3]\n",
    "#     [4 5 6] [4 5 6]\n",
    "#   ]\n",
    "# ]\n",
    "print(rep2)\n",
    "\n",
    "# Right so basically\n",
    "# [ a0:[ [1 2 3] ] ]\n",
    "# [ [ a1:[1 2 3] ] ]\n",
    "# [ [ [a2:1 2 3] ] ]"
   ]
  },
  {
   "cell_type": "code",
   "execution_count": 46,
   "id": "567b4f81-4e77-4412-a26a-b5aa2518436d",
   "metadata": {},
   "outputs": [
    {
     "name": "stdout",
     "output_type": "stream",
     "text": [
      "[[1 1 1 1 1 1 1]\n",
      " [1 0 0 0 0 0 1]\n",
      " [1 0 9 9 9 0 1]\n",
      " [1 0 9 5 9 0 1]\n",
      " [1 0 9 9 9 0 1]\n",
      " [1 0 0 0 0 0 1]\n",
      " [1 1 1 1 1 1 1]]\n"
     ]
    }
   ],
   "source": [
    "# Given challenge: [\n",
    "#   [1 1 1 1 1]\n",
    "#   [1 0 0 0 1]\n",
    "#   [1 0 9 0 1]\n",
    "#   [1 0 0 0 1]\n",
    "#   [1 1 1 1 1]\n",
    "# ]\n",
    "\n",
    "def layers(*nums):\n",
    "    # Happy path - assuming always at least one arg\n",
    "    l = len(nums)\n",
    "    # Initial case\n",
    "    # arr = np.full((l, l), nums[0]) Every number (layer) except the center is actually 2 rows/columns\n",
    "    arr = np.full((l * 2 - 1, l * 2 - 1), nums[0])\n",
    "    for i in range(1, l):\n",
    "        # Start from the outside\n",
    "        # arr[i:-1-i, i:-1-i] = nums[i] Exclusive upper bound\n",
    "        arr[i:-i, i:-i] = nums[i]\n",
    "    # Actually that might do it\n",
    "    return arr\n",
    "\n",
    "print(layers(1, 0, 9, 5))"
   ]
  },
  {
   "cell_type": "code",
   "execution_count": 48,
   "id": "bb3d4be4-720b-410b-bb49-ac208fcb20bd",
   "metadata": {},
   "outputs": [
    {
     "name": "stdout",
     "output_type": "stream",
     "text": [
      "[[1. 1. 1. 1. 1.]\n",
      " [1. 1. 1. 1. 1.]\n",
      " [1. 1. 1. 1. 1.]\n",
      " [1. 1. 1. 1. 1.]\n",
      " [1. 1. 1. 1. 1.]]\n",
      "[[0. 0. 0.]\n",
      " [0. 9. 0.]\n",
      " [0. 0. 0.]]\n",
      "[[1. 1. 1. 1. 1.]\n",
      " [1. 0. 0. 0. 1.]\n",
      " [1. 0. 9. 0. 1.]\n",
      " [1. 0. 0. 0. 1.]\n",
      " [1. 1. 1. 1. 1.]]\n"
     ]
    }
   ],
   "source": [
    "# Given solution\n",
    "output = np.ones((5, 5))\n",
    "print(output)\n",
    "\n",
    "z = np.zeros((3, 3))\n",
    "z[1,1] = 9\n",
    "print(z)\n",
    "\n",
    "output[1:-1,1:-1] = z\n",
    "print(output)"
   ]
  },
  {
   "cell_type": "code",
   "execution_count": 49,
   "id": "7174b2c9-fa64-44aa-92d5-6416f3b62e56",
   "metadata": {},
   "outputs": [
    {
     "name": "stdout",
     "output_type": "stream",
     "text": [
      "[1 2 3]\n"
     ]
    }
   ],
   "source": [
    "a = np.array([1,2,3]).copy()\n",
    "print(a)"
   ]
  },
  {
   "cell_type": "markdown",
   "id": "75c566e6-d994-4ba7-9ceb-d14dde8925a0",
   "metadata": {},
   "source": [
    "-----"
   ]
  },
  {
   "cell_type": "code",
   "execution_count": 68,
   "id": "7c46bd5f-02e4-48b7-94bf-301db8cfccef",
   "metadata": {},
   "outputs": [
    {
     "name": "stdout",
     "output_type": "stream",
     "text": [
      "[3 4 5]\n",
      "[-1  0  1]\n",
      "[2 4 6]\n",
      "[0.5 1.  1.5]\n",
      "[1 4 9]\n",
      "[0.84147098 0.90929743 0.14112001]\n",
      "[False False  True]\n"
     ]
    }
   ],
   "source": [
    "# Math operations are applied to each item individually\n",
    "print(a + 2)\n",
    "print(a - 2)\n",
    "print(a * 2)\n",
    "print(a / 2)\n",
    "print(a ** 2)\n",
    "print(np.sin(a))\n",
    "print(a > 2)"
   ]
  },
  {
   "cell_type": "code",
   "execution_count": 51,
   "id": "019b99a4-73bb-47d1-82df-97d374cba427",
   "metadata": {},
   "outputs": [
    {
     "name": "stdout",
     "output_type": "stream",
     "text": [
      "[2 4 6]\n"
     ]
    }
   ],
   "source": [
    "# Item-by-item operation between arrays\n",
    "b = np.array([1,2,3])\n",
    "print(a + b)"
   ]
  },
  {
   "cell_type": "code",
   "execution_count": 53,
   "id": "66b34e70-4265-412c-bb7d-bd22a4237c37",
   "metadata": {},
   "outputs": [
    {
     "name": "stdout",
     "output_type": "stream",
     "text": [
      "[[1. 1. 1.]\n",
      " [1. 1. 1.]]\n",
      "[[2 2]\n",
      " [2 2]\n",
      " [2 2]]\n",
      "[[6. 6.]\n",
      " [6. 6.]]\n"
     ]
    }
   ],
   "source": [
    "# Matrix operations\n",
    "a = np.ones((2, 3))\n",
    "b = np.full((3, 2), 2)\n",
    "print(a)\n",
    "print(b)\n",
    "\n",
    "print(np.matmul(a, b))"
   ]
  },
  {
   "cell_type": "markdown",
   "id": "9f7427e0-a542-444b-996b-f4ad0f44d567",
   "metadata": {},
   "source": [
    "-----"
   ]
  },
  {
   "cell_type": "code",
   "execution_count": 57,
   "id": "a2d4f3e4-d84b-4991-9309-25b0b53a17e0",
   "metadata": {},
   "outputs": [
    {
     "name": "stdout",
     "output_type": "stream",
     "text": [
      "[[1 4 9]\n",
      " [3 5 7]]\n"
     ]
    }
   ],
   "source": [
    "# Statistics\n",
    "a = np.array([[1,4,9],[3,5,7]])\n",
    "print(a)"
   ]
  },
  {
   "cell_type": "code",
   "execution_count": 59,
   "id": "ddc6314f-0ad2-4c93-94c7-c4bda922bfa3",
   "metadata": {},
   "outputs": [
    {
     "name": "stdout",
     "output_type": "stream",
     "text": [
      "1\n",
      "[1 4 7]\n",
      "[1 3]\n"
     ]
    }
   ],
   "source": [
    "print(np.min(a))\n",
    "print(np.min(a, axis=0))\n",
    "print(np.min(a, axis=1))"
   ]
  },
  {
   "cell_type": "code",
   "execution_count": 60,
   "id": "55c77919-7401-4163-951c-831d34485631",
   "metadata": {},
   "outputs": [
    {
     "name": "stdout",
     "output_type": "stream",
     "text": [
      "29\n",
      "[ 4  9 16]\n"
     ]
    }
   ],
   "source": [
    "print(np.sum(a))\n",
    "print(np.sum(a, axis=0))"
   ]
  },
  {
   "cell_type": "code",
   "execution_count": 62,
   "id": "30ebaa1c-390f-4dea-a269-fdea20787893",
   "metadata": {},
   "outputs": [
    {
     "name": "stdout",
     "output_type": "stream",
     "text": [
      "(2, 3)\n",
      "[1 4 9 3 5 7]\n"
     ]
    }
   ],
   "source": [
    "a = np.array([[1,4,9],[3,5,7]])\n",
    "print(a.shape)\n",
    "print(a.reshape((6,)))"
   ]
  },
  {
   "cell_type": "code",
   "execution_count": 66,
   "id": "c175aa5c-1dab-4ca9-a117-2c0d9ce1b3d9",
   "metadata": {},
   "outputs": [
    {
     "name": "stdout",
     "output_type": "stream",
     "text": [
      "[[1 2 3]\n",
      " [4 5 6]]\n",
      "[[1 2 3 1 2 3 4 5 6]\n",
      " [1 2 3 1 2 3 4 5 6]]\n"
     ]
    }
   ],
   "source": [
    "a = np.array([1,2,3])\n",
    "b = np.array([4,5,6])\n",
    "\n",
    "print(np.vstack([a, b]))\n",
    "c = np.vstack([a, a])\n",
    "d = np.vstack([b, b])\n",
    "print(np.hstack([c, c, d]))"
   ]
  },
  {
   "cell_type": "code",
   "execution_count": 78,
   "id": "ee864ea7-8b2f-495a-89cc-e295bfcbf688",
   "metadata": {},
   "outputs": [
    {
     "name": "stdout",
     "output_type": "stream",
     "text": [
      "[2 4 5]\n",
      "[4 5]\n",
      "True\n",
      "False\n",
      "[False False  True  True  True]\n",
      "[False False  True  True False]\n",
      "[4 6 0 6 4]\n"
     ]
    }
   ],
   "source": [
    "# filedata = np.genfromtxt('data.txt', delimiter=',')\n",
    "# Integers become floats\n",
    "# filedata.astype('int32')\n",
    "\n",
    "a = np.array([1,2,3,4,5])\n",
    "print(a[[1,3,4]])\n",
    "print(a[a > 3])\n",
    "print(np.any(a > 3))\n",
    "print(np.all(a > 3))\n",
    "\n",
    "# Bit operations per value\n",
    "print(a > 2)\n",
    "print((a > 2) & (a < 5))\n",
    "print(a ^ a[::-1])"
   ]
  },
  {
   "cell_type": "code",
   "execution_count": 87,
   "id": "f77f3c6d-56ca-426c-89ff-b7c17c1e3f4a",
   "metadata": {},
   "outputs": [
    {
     "name": "stdout",
     "output_type": "stream",
     "text": [
      "[[ 1  2  3  4  5]\n",
      " [ 6  7  8  9 10]\n",
      " [11 12 13 14 15]\n",
      " [16 17 18 19 20]\n",
      " [21 22 23 24 25]\n",
      " [26 27 28 29 30]]\n",
      "[[11 12]\n",
      " [16 17]]\n",
      "[ 2  8 14 20]\n",
      "[[ 4  5]\n",
      " [24 25]\n",
      " [29 30]]\n"
     ]
    }
   ],
   "source": [
    "# Quiz time\n",
    "arr = np.array(range(1, 31)).reshape((6, 5))\n",
    "print(arr)\n",
    "\n",
    "# Access 11, 12, 16, 17\n",
    "print(arr[2:4, 0:2])\n",
    "\n",
    "# Access 2, 8, 14, 20\n",
    "# Probably related to bit masking\n",
    "# Cells where the column is one higher than the row\n",
    "print(arr[[0,1,2,3], [1,2,3,4]]) # Solution given\n",
    "# I think I was out-thinking myself\n",
    "# I was too focused on a solution that would work for any size array\n",
    "\n",
    "# Access 4, 5, 24, 25, 29, 30\n",
    "# Based on how the boxes have been drawn I imagine numbers in the row come together\n",
    "print(arr[[0, 4, 5], 3:5])"
   ]
  },
  {
   "cell_type": "code",
   "execution_count": null,
   "id": "282a7258-eaf5-4f75-aa8f-fde1b08dca08",
   "metadata": {},
   "outputs": [],
   "source": []
  }
 ],
 "metadata": {
  "kernelspec": {
   "display_name": "Python 3",
   "language": "python",
   "name": "python3"
  },
  "language_info": {
   "codemirror_mode": {
    "name": "ipython",
    "version": 3
   },
   "file_extension": ".py",
   "mimetype": "text/x-python",
   "name": "python",
   "nbconvert_exporter": "python",
   "pygments_lexer": "ipython3",
   "version": "3.8.8"
  }
 },
 "nbformat": 4,
 "nbformat_minor": 5
}
