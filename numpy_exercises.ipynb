{
 "cells": [
  {
   "cell_type": "markdown",
   "metadata": {},
   "source": [
    "# NumPy exercises\n",
    "\n",
    "We are going to practice NumPy skills and basic syntax.\n",
    "\n",
    "We put here also some examples that were not in the tutorial on purpose. Try to use google and offial NumPy documentation to solve these exercises."
   ]
  },
  {
   "cell_type": "markdown",
   "metadata": {},
   "source": [
    "#### 1. Import the numpy package under the name `np` (★☆☆)"
   ]
  },
  {
   "cell_type": "code",
   "execution_count": 1,
   "metadata": {
    "tags": []
   },
   "outputs": [],
   "source": [
    "import numpy as np"
   ]
  },
  {
   "cell_type": "markdown",
   "metadata": {},
   "source": [
    "#### 3. Create a null vector of size 10 (★☆☆)"
   ]
  },
  {
   "cell_type": "code",
   "execution_count": 4,
   "metadata": {
    "collapsed": false,
    "jupyter": {
     "outputs_hidden": false
    }
   },
   "outputs": [
    {
     "name": "stdout",
     "output_type": "stream",
     "text": [
      "[0. 0. 0. 0. 0. 0. 0. 0. 0. 0.]\n"
     ]
    }
   ],
   "source": [
    "# Assuming \"null vector\" really means an array of zeros, not actually nulls\n",
    "nvec = np.zeros((10,))\n",
    "print(nvec)"
   ]
  },
  {
   "cell_type": "markdown",
   "metadata": {},
   "source": [
    "#### 6.  Create a null vector of size 10 but the fifth value which is 1 (★☆☆)"
   ]
  },
  {
   "cell_type": "code",
   "execution_count": 5,
   "metadata": {
    "collapsed": false,
    "jupyter": {
     "outputs_hidden": false
    }
   },
   "outputs": [
    {
     "name": "stdout",
     "output_type": "stream",
     "text": [
      "[0. 0. 0. 0. 1. 0. 0. 0. 0. 0.]\n"
     ]
    }
   ],
   "source": [
    "nvec = np.zeros((10,))\n",
    "nvec[4] = 1\n",
    "print(nvec)"
   ]
  },
  {
   "cell_type": "markdown",
   "metadata": {},
   "source": [
    "#### 7.  Create a vector with values ranging from 10 to 49 (★☆☆)"
   ]
  },
  {
   "cell_type": "code",
   "execution_count": 10,
   "metadata": {
    "collapsed": false,
    "jupyter": {
     "outputs_hidden": false
    }
   },
   "outputs": [
    {
     "name": "stdout",
     "output_type": "stream",
     "text": [
      "[10 11 12 13 14 15 16 17 18 19 20 21 22 23 24 25 26 27 28 29 30 31 32 33\n",
      " 34 35 36 37 38 39 40 41 42 43 44 45 46 47 48 49]\n"
     ]
    }
   ],
   "source": [
    "print(np.arange(10, 50))"
   ]
  },
  {
   "cell_type": "markdown",
   "metadata": {},
   "source": [
    "#### 8.  Reverse a vector (first element becomes last) (★☆☆)"
   ]
  },
  {
   "cell_type": "code",
   "execution_count": 11,
   "metadata": {
    "collapsed": false,
    "jupyter": {
     "outputs_hidden": false
    }
   },
   "outputs": [
    {
     "name": "stdout",
     "output_type": "stream",
     "text": [
      "[9 8 7 6 5 4 3 2 1 0]\n"
     ]
    }
   ],
   "source": [
    "start = np.arange(10)\n",
    "result = start[::-1]\n",
    "print(result)"
   ]
  },
  {
   "cell_type": "markdown",
   "metadata": {},
   "source": [
    "#### 9.  Create a 3x3 matrix with values ranging from 0 to 8 (★☆☆)"
   ]
  },
  {
   "cell_type": "code",
   "execution_count": 13,
   "metadata": {
    "collapsed": false,
    "jupyter": {
     "outputs_hidden": false
    }
   },
   "outputs": [
    {
     "name": "stdout",
     "output_type": "stream",
     "text": [
      "[[0 1 2]\n",
      " [3 4 5]\n",
      " [6 7 8]]\n"
     ]
    }
   ],
   "source": [
    "print(np.arange(9).reshape((3, 3)))"
   ]
  },
  {
   "cell_type": "markdown",
   "metadata": {},
   "source": [
    "#### 10. Find indices of non-zero elements from \\[1,2,0,0,4,0\\] (★☆☆)"
   ]
  },
  {
   "cell_type": "code",
   "execution_count": 18,
   "metadata": {
    "collapsed": false,
    "jupyter": {
     "outputs_hidden": false
    }
   },
   "outputs": [
    {
     "name": "stdout",
     "output_type": "stream",
     "text": [
      "[0 1 4]\n"
     ]
    }
   ],
   "source": [
    "arr = np.array([1,2,0,0,4,0])\n",
    "print(np.flatnonzero(arr))"
   ]
  },
  {
   "cell_type": "markdown",
   "metadata": {},
   "source": [
    "#### 12. Create a 3x3x3 array with random values (★☆☆)"
   ]
  },
  {
   "cell_type": "code",
   "execution_count": 19,
   "metadata": {
    "tags": []
   },
   "outputs": [
    {
     "name": "stdout",
     "output_type": "stream",
     "text": [
      "[[0.36471446 0.03797047 0.17857281]\n",
      " [0.69287934 0.16033288 0.86553173]\n",
      " [0.36752388 0.07423965 0.66297376]]\n"
     ]
    }
   ],
   "source": [
    "print(np.random.rand(3, 3))"
   ]
  },
  {
   "cell_type": "markdown",
   "metadata": {},
   "source": [
    "#### 13. Create a 10x10 array with random values and find the minimum and maximum values (★☆☆)"
   ]
  },
  {
   "cell_type": "code",
   "execution_count": 20,
   "metadata": {
    "collapsed": false,
    "jupyter": {
     "outputs_hidden": false
    }
   },
   "outputs": [
    {
     "name": "stdout",
     "output_type": "stream",
     "text": [
      "[[0.23974151 0.07511144 0.64994968]\n",
      " [0.16354619 0.75125142 0.69644239]\n",
      " [0.52486086 0.75654971 0.33675462]]\n",
      "Minimum: 0.07511143543067555\n",
      "Maximum: 0.7565497110099494\n"
     ]
    }
   ],
   "source": [
    "arr = np.random.rand(3, 3)\n",
    "print(arr)\n",
    "\n",
    "print(f\"Minimum: {np.min(arr)}\")\n",
    "print(f\"Maximum: {np.max(arr)}\")"
   ]
  },
  {
   "cell_type": "markdown",
   "metadata": {},
   "source": [
    "#### 14. Create a random vector of size 30 and find the mean value (★☆☆)"
   ]
  },
  {
   "cell_type": "code",
   "execution_count": 21,
   "metadata": {
    "collapsed": false,
    "jupyter": {
     "outputs_hidden": false
    }
   },
   "outputs": [
    {
     "name": "stdout",
     "output_type": "stream",
     "text": [
      "[0.4860237  0.64881398 0.55897414 0.55173191 0.56897147 0.58055314\n",
      " 0.11962724 0.18255314 0.20435841 0.69352484 0.47508541 0.5754424\n",
      " 0.0707912  0.07711272 0.65700458 0.36522721 0.55211989 0.38435429\n",
      " 0.62850428 0.36282227 0.64819563 0.49543516 0.08450766 0.66339661\n",
      " 0.26541632 0.29464882 0.17016962 0.27532777 0.86573392 0.00337283]\n",
      "Mean: 0.41699335123096787\n"
     ]
    }
   ],
   "source": [
    "arr = np.random.rand(30)\n",
    "print(arr)\n",
    "\n",
    "print(f\"Mean: {np.mean(arr)}\")"
   ]
  },
  {
   "cell_type": "markdown",
   "metadata": {},
   "source": [
    "#### 15. Create a 2d array with 1 on the border and 0 inside (★☆☆)"
   ]
  },
  {
   "cell_type": "code",
   "execution_count": 23,
   "metadata": {
    "collapsed": false,
    "jupyter": {
     "outputs_hidden": false
    }
   },
   "outputs": [
    {
     "name": "stdout",
     "output_type": "stream",
     "text": [
      "[[1 1 1 1 1]\n",
      " [1 0 0 0 1]\n",
      " [1 0 0 0 1]\n",
      " [1 0 0 0 1]\n",
      " [1 1 1 1 1]]\n"
     ]
    }
   ],
   "source": [
    "# Lemme just borrow my function from the video real quick\n",
    "def layers(*nums):\n",
    "    # Happy path - assuming always at least one arg\n",
    "    l = len(nums)\n",
    "    # Initial case\n",
    "    # arr = np.full((l, l), nums[0]) Every number (layer) except the center is actually 2 rows/columns\n",
    "    arr = np.full((l * 2 - 1, l * 2 - 1), nums[0])\n",
    "    for i in range(1, l):\n",
    "        # Start from the outside\n",
    "        # arr[i:-1-i, i:-1-i] = nums[i] Exclusive upper bound\n",
    "        arr[i:-i, i:-i] = nums[i]\n",
    "    # Actually that might do it\n",
    "    return arr\n",
    "\n",
    "print(layers(1, 0, 0))"
   ]
  },
  {
   "cell_type": "markdown",
   "metadata": {},
   "source": [
    "#### 16. How to add a border (filled with 0's) around an existing array? (★☆☆)"
   ]
  },
  {
   "cell_type": "code",
   "execution_count": 45,
   "metadata": {
    "collapsed": false,
    "jupyter": {
     "outputs_hidden": false
    }
   },
   "outputs": [
    {
     "name": "stdout",
     "output_type": "stream",
     "text": [
      "[[1. 1. 1.]\n",
      " [1. 1. 1.]\n",
      " [1. 1. 1.]]\n",
      "[[0. 0. 0. 0. 0.]\n",
      " [0. 1. 1. 1. 0.]\n",
      " [0. 1. 1. 1. 0.]\n",
      " [0. 1. 1. 1. 0.]\n",
      " [0. 0. 0. 0. 0.]]\n",
      "[0. 1. 1. 0.]\n",
      "[[[0. 0. 0. 0.]\n",
      "  [0. 0. 0. 0.]\n",
      "  [0. 0. 0. 0.]\n",
      "  [0. 0. 0. 0.]]\n",
      "\n",
      " [[0. 0. 0. 0.]\n",
      "  [0. 1. 1. 0.]\n",
      "  [0. 1. 1. 0.]\n",
      "  [0. 0. 0. 0.]]\n",
      "\n",
      " [[0. 0. 0. 0.]\n",
      "  [0. 1. 1. 0.]\n",
      "  [0. 1. 1. 0.]\n",
      "  [0. 0. 0. 0.]]\n",
      "\n",
      " [[0. 0. 0. 0.]\n",
      "  [0. 0. 0. 0.]\n",
      "  [0. 0. 0. 0.]\n",
      "  [0. 0. 0. 0.]]]\n"
     ]
    }
   ],
   "source": [
    "# This will keep the same amount of dimentions as was input,\n",
    "# ie a 1d array will have a zero at the front and back,\n",
    "# a 2d array will be surrounded by zeros on the plane\n",
    "# a 3d array would be like a cube nested inside a larger cube\n",
    "#    with zeros in the outer layer\n",
    "# I don't want to think about a 4d array\n",
    "def addZeros(arr):\n",
    "    shape = np.add(arr.shape, 2)\n",
    "    big = np.zeros(shape)\n",
    "    big[(slice(1, -1),) * shape.size] = arr\n",
    "    return big\n",
    "    \n",
    "existing = np.ones((3,3))\n",
    "print(existing)\n",
    "\n",
    "added = addZeros(existing)\n",
    "print(added)\n",
    "\n",
    "print(addZeros(np.ones((2,))))\n",
    "print(addZeros(np.ones((2,2,2))))\n",
    "# Fun stuff :3"
   ]
  },
  {
   "cell_type": "markdown",
   "metadata": {},
   "source": [
    "#### 17. What is the result of the following expression? (★☆☆)"
   ]
  },
  {
   "cell_type": "markdown",
   "metadata": {},
   "source": [
    "```python\n",
    "0 * np.nan\n",
    "np.nan == np.nan\n",
    "np.inf > np.nan\n",
    "np.nan - np.nan\n",
    "np.nan in set([np.nan])\n",
    "0.3 == 3 * 0.1\n",
    "```"
   ]
  },
  {
   "cell_type": "code",
   "execution_count": 46,
   "metadata": {
    "collapsed": false,
    "jupyter": {
     "outputs_hidden": false
    }
   },
   "outputs": [
    {
     "name": "stdout",
     "output_type": "stream",
     "text": [
      "nan\n",
      "False\n",
      "False\n",
      "nan\n",
      "True\n",
      "False\n"
     ]
    }
   ],
   "source": [
    "# Am I supposed to guess without typing these out, or just type them out and that's the answer...?\n",
    "print(0 * np.nan) # nan\n",
    "print(np.nan == np.nan) # Could go either way, but I'm leaning more towards false\n",
    "print(np.inf > np.nan) # Probably not\n",
    "print(np.nan - np.nan) # nan\n",
    "print(np.nan in set([np.nan])) # maybe? But again gonna say nope\n",
    "print(0.3 == 3 * 0.1) # This probably gets caught by how inaccurate pythyon floats are and the multiplication will be something like 0.29999999999999"
   ]
  },
  {
   "cell_type": "markdown",
   "metadata": {},
   "source": [
    "#### 18. Create a 5x5 matrix with values 1,2,3,4 just below the diagonal (★☆☆)"
   ]
  },
  {
   "cell_type": "code",
   "execution_count": 47,
   "metadata": {
    "collapsed": false,
    "jupyter": {
     "outputs_hidden": false
    }
   },
   "outputs": [
    {
     "name": "stdout",
     "output_type": "stream",
     "text": [
      "[[0. 0. 0. 0. 0.]\n",
      " [1. 0. 0. 0. 0.]\n",
      " [0. 2. 0. 0. 0.]\n",
      " [0. 0. 3. 0. 0.]\n",
      " [0. 0. 0. 4. 0.]]\n"
     ]
    }
   ],
   "source": [
    "# Target: [\n",
    "#   [0 0 0 0 0]\n",
    "#   [1 0 0 0 0]\n",
    "#   [0 2 0 0 0]\n",
    "#   [0 0 3 0 0]\n",
    "#   [0 0 0 4 0]\n",
    "# ]\n",
    "\n",
    "arr = np.zeros((5, 5))\n",
    "arr[[1, 2, 3, 4], [0, 1, 2, 3]] = [1, 2, 3, 4]\n",
    "print(arr)"
   ]
  },
  {
   "cell_type": "markdown",
   "metadata": {},
   "source": [
    "#### 20. Consider a (6,7,8) shape array, what is the index (x,y,z) of the 100th element?"
   ]
  },
  {
   "cell_type": "code",
   "execution_count": 48,
   "metadata": {
    "collapsed": false,
    "jupyter": {
     "outputs_hidden": false
    }
   },
   "outputs": [
    {
     "name": "stdout",
     "output_type": "stream",
     "text": [
      "100\n"
     ]
    }
   ],
   "source": [
    "# 6 rows\n",
    "# 7 columns\n",
    "# 8 layers\n",
    "# Each row contains a 7x8 slice\n",
    "# Each row contains 56 items\n",
    "# x = 1, 44 items remain\n",
    "# Each column in the row contains 8 items\n",
    "# y = 44 // 8 = 5, 4 items remain\n",
    "# z = 4\n",
    "arr = np.arange(6 * 7 * 8).reshape((6, 7, 8))\n",
    "print(arr[1, 5, 4])"
   ]
  },
  {
   "cell_type": "markdown",
   "metadata": {},
   "source": [
    "#### 22. Normalize a 5x5 random matrix (★☆☆)"
   ]
  },
  {
   "cell_type": "code",
   "execution_count": 55,
   "metadata": {
    "collapsed": false,
    "jupyter": {
     "outputs_hidden": false
    }
   },
   "outputs": [
    {
     "name": "stdout",
     "output_type": "stream",
     "text": [
      "[[15.12131028  2.02836341 23.02154937  4.80863045  2.26216489]\n",
      " [14.23346518 39.19853094  6.13098368  3.65371126 15.34240594]\n",
      " [23.86266982 30.26662351 27.29603118 20.83030439 23.46561581]\n",
      " [35.05507657 28.75907502 32.49725475 35.02037749  3.63018258]\n",
      " [19.03877697  3.81002661 34.98624646  9.75955811 38.34810164]]\n"
     ]
    }
   ],
   "source": [
    "# To normalize a matrix, you divide each element by the determinant of the matrix - https://mathforums.com/threads/how-do-i-normalize-a-matrix.18218/\n",
    "randMatr = np.random.rand(5, 5)\n",
    "determinant = np.linalg.det(randMatr)\n",
    "normalized = randMatr / determinant\n",
    "print(normalized)"
   ]
  },
  {
   "cell_type": "markdown",
   "metadata": {},
   "source": [
    "#### 25. Given a 1D array, negate all elements which are between 3 and 8, in place. (★☆☆)"
   ]
  },
  {
   "cell_type": "code",
   "execution_count": 72,
   "metadata": {
    "collapsed": false,
    "jupyter": {
     "outputs_hidden": false
    }
   },
   "outputs": [
    {
     "name": "stdout",
     "output_type": "stream",
     "text": [
      "[1 3 5 7 9]\n",
      "[ 1 -3 -5 -7  9]\n"
     ]
    }
   ],
   "source": [
    "def negate(arr, low, high):\n",
    "    # Inclusive lower bound, exclusive upper bound\n",
    "    withinThresh = np.flatnonzero((arr >= low) & (arr < high))\n",
    "    arr[withinThresh] *= -1\n",
    "        \n",
    "start = np.array([1, 3, 5, 7, 9])\n",
    "print(start)\n",
    "negate(start, 3, 8)\n",
    "print(start)"
   ]
  },
  {
   "cell_type": "markdown",
   "metadata": {},
   "source": [
    "#### 29. How to round away from zero a float array ? (★☆☆)"
   ]
  },
  {
   "cell_type": "code",
   "execution_count": 73,
   "metadata": {
    "collapsed": false,
    "jupyter": {
     "outputs_hidden": false
    }
   },
   "outputs": [
    {
     "name": "stdout",
     "output_type": "stream",
     "text": [
      "[-2.  -1.5 -1.  -0.5  0.   0.5  1.   1.5]\n",
      "[-2. -2. -1. -1.  0.  1.  1.  2.]\n"
     ]
    }
   ],
   "source": [
    "def awayFromZero(arr):\n",
    "    return np.where(arr > 0, np.ceil(arr), np.floor(arr))\n",
    "    \n",
    "start = np.arange(-2, 2, 0.5)\n",
    "print(start)\n",
    "print(awayFromZero(start))"
   ]
  },
  {
   "cell_type": "markdown",
   "metadata": {},
   "source": [
    "#### 30. How to find common values between two arrays? (★☆☆)"
   ]
  },
  {
   "cell_type": "code",
   "execution_count": 75,
   "metadata": {
    "collapsed": false,
    "jupyter": {
     "outputs_hidden": false
    }
   },
   "outputs": [
    {
     "name": "stdout",
     "output_type": "stream",
     "text": [
      "[1 2 3 4]\n",
      "[3 4 5 6 7]\n",
      "[3 4]\n"
     ]
    }
   ],
   "source": [
    "# Just list the common values?\n",
    "arr1 = np.arange(1, 5)\n",
    "arr2 = np.arange(3, 8)\n",
    "intersect = np.intersect1d(arr1, arr2)\n",
    "print(arr1)\n",
    "print(arr2)\n",
    "print(intersect)"
   ]
  },
  {
   "cell_type": "markdown",
   "metadata": {},
   "source": [
    "#### 32. Is the following expressions true? (★☆☆)"
   ]
  },
  {
   "cell_type": "markdown",
   "metadata": {},
   "source": [
    "```python\n",
    "np.sqrt(-1) == np.emath.sqrt(-1)\n",
    "```"
   ]
  },
  {
   "cell_type": "code",
   "execution_count": 79,
   "metadata": {
    "collapsed": false,
    "jupyter": {
     "outputs_hidden": false
    }
   },
   "outputs": [
    {
     "name": "stdout",
     "output_type": "stream",
     "text": [
      "False\n"
     ]
    },
    {
     "name": "stderr",
     "output_type": "stream",
     "text": [
      "<ipython-input-79-1ce6481f0d3f>:2: RuntimeWarning: invalid value encountered in sqrt\n",
      "  print(np.sqrt(-1) == np.emath.sqrt(-1))\n"
     ]
    }
   ],
   "source": [
    "# I imagine the first one probably throws an error, but the second would return with i\n",
    "print(np.sqrt(-1) == np.emath.sqrt(-1))\n",
    "\n",
    "# I find it curious that the program continued running, I had expected an exception which would stop the program"
   ]
  },
  {
   "cell_type": "markdown",
   "metadata": {},
   "source": [
    "#### 38. Consider a generator function that generates 10 integers and use it to build an array (★☆☆)"
   ]
  },
  {
   "cell_type": "code",
   "execution_count": 83,
   "metadata": {
    "collapsed": false,
    "jupyter": {
     "outputs_hidden": false
    }
   },
   "outputs": [
    {
     "name": "stdout",
     "output_type": "stream",
     "text": [
      "[0 1 2 3 4 5 6 7 8 9]\n",
      "[0 1 2 3 4 5 6 7 8 9]\n"
     ]
    }
   ],
   "source": [
    "# Do I write said generator function?\n",
    "def generate(upTo):\n",
    "    i = 0\n",
    "    while i < upTo:\n",
    "        yield i\n",
    "        i += 1\n",
    "\n",
    "# It appears the normal np.array() method requires the size to be known immediately,\n",
    "# not terribly surprising when thinking about it because all elements must be together\n",
    "# in memory. So without predicting the size you can either convert it to a list first\n",
    "print(np.array(list(generate(10))))\n",
    "# or use fromiter\n",
    "print(np.fromiter(generate(10), int))"
   ]
  },
  {
   "cell_type": "markdown",
   "metadata": {},
   "source": [
    "#### 39. Create a vector of size 10 with values ranging from 0 to 1, both excluded (★★☆)"
   ]
  },
  {
   "cell_type": "code",
   "execution_count": 87,
   "metadata": {
    "collapsed": false,
    "jupyter": {
     "outputs_hidden": false
    }
   },
   "outputs": [
    {
     "name": "stdout",
     "output_type": "stream",
     "text": [
      "[0.09090909 0.18181818 0.27272727 0.36363636 0.45454545 0.54545455\n",
      " 0.63636364 0.72727273 0.81818182 0.90909091]\n",
      "10\n"
     ]
    }
   ],
   "source": [
    "# 10 evenly spaced values? Excluding 0 and 1 themselves\n",
    "step = 1 / 11 # 1 is already excluded, add one to the step divisor so 0 can be skipped\n",
    "arr = np.arange(step, 1, step)\n",
    "print(arr)\n",
    "print(arr.size)"
   ]
  },
  {
   "cell_type": "markdown",
   "metadata": {},
   "source": [
    "#### 40. Create a random vector of size 10 and sort it (★★☆)"
   ]
  },
  {
   "cell_type": "code",
   "execution_count": 90,
   "metadata": {
    "collapsed": false,
    "jupyter": {
     "outputs_hidden": false
    }
   },
   "outputs": [
    {
     "name": "stdout",
     "output_type": "stream",
     "text": [
      "[0.05326368 0.09510945 0.12271279 0.36419098 0.40980593 0.54400267\n",
      " 0.62800406 0.68290256 0.84983495 0.88060858]\n"
     ]
    }
   ],
   "source": [
    "arr = np.random.rand(10)\n",
    "arr.sort()\n",
    "print(arr)"
   ]
  },
  {
   "cell_type": "markdown",
   "metadata": {},
   "source": [
    "#### 42. Consider two random array A and B, check if they are equal (★★☆)"
   ]
  },
  {
   "cell_type": "code",
   "execution_count": 92,
   "metadata": {
    "collapsed": false,
    "jupyter": {
     "outputs_hidden": false
    }
   },
   "outputs": [
    {
     "name": "stdout",
     "output_type": "stream",
     "text": [
      "True\n",
      "False\n",
      "False\n"
     ]
    }
   ],
   "source": [
    "def equal(arr1, arr2):\n",
    "    return np.array_equal(arr1, arr2)\n",
    "    \n",
    "a = np.array([1, 2, 3])\n",
    "b = np.array([1, 2, 3])\n",
    "c = np.array([2, 3, 4])\n",
    "d = np.array([2, 3])\n",
    "\n",
    "print(equal(a, b)) # True\n",
    "print(equal(a, c)) # False\n",
    "print(equal(a, d)) # False"
   ]
  },
  {
   "cell_type": "markdown",
   "metadata": {},
   "source": [
    "#### 45. Create random vector of size 10 and replace the maximum value by 0 (★★☆)"
   ]
  },
  {
   "cell_type": "code",
   "execution_count": 93,
   "metadata": {
    "collapsed": false,
    "jupyter": {
     "outputs_hidden": false
    }
   },
   "outputs": [
    {
     "name": "stdout",
     "output_type": "stream",
     "text": [
      "[0.02155027 0.44327432 0.41724737 0.407479   0.9383592  0.53565785\n",
      " 0.58773167 0.01017126 0.0196591  0.53062683]\n",
      "[0.02155027 0.44327432 0.41724737 0.407479   0.         0.53565785\n",
      " 0.58773167 0.01017126 0.0196591  0.53062683]\n"
     ]
    }
   ],
   "source": [
    "vec = np.random.rand(10)\n",
    "print(vec)\n",
    "vec[vec.argmax()] = 0\n",
    "print(vec)"
   ]
  },
  {
   "cell_type": "markdown",
   "metadata": {},
   "source": [
    "#### 50. How to find the closest value (to a given scalar) in a vector? (★★☆)"
   ]
  },
  {
   "cell_type": "code",
   "execution_count": 95,
   "metadata": {
    "collapsed": false,
    "jupyter": {
     "outputs_hidden": false
    }
   },
   "outputs": [
    {
     "name": "stdout",
     "output_type": "stream",
     "text": [
      "6\n"
     ]
    }
   ],
   "source": [
    "# Find the value in a vector which is closest to a given value\n",
    "# ie [1, 3, 6, 8] the closest value to 5 is 6. So return 6\n",
    "def closest(arr, value):\n",
    "    differences = np.abs(arr - value)\n",
    "    return arr[differences.argmin()]\n",
    "    \n",
    "vec = np.array([1, 3, 6, 8])\n",
    "print(closest(vec, 5))"
   ]
  },
  {
   "cell_type": "markdown",
   "metadata": {},
   "source": [
    "#### 53. How to convert a float (32 bits) array into an integer (32 bits) in place?"
   ]
  },
  {
   "cell_type": "code",
   "execution_count": 109,
   "metadata": {
    "collapsed": false,
    "jupyter": {
     "outputs_hidden": false
    }
   },
   "outputs": [
    {
     "name": "stdout",
     "output_type": "stream",
     "text": [
      "[0. 1. 2. 3. 4. 5. 6. 7. 8. 9.]\n",
      "3185980203536\n",
      "[0 1 2 3 4 5 6 7 8 9]\n",
      "3185980056560\n",
      "\n",
      "[0. 1. 2. 3. 4. 5. 6. 7. 8. 9.]\n",
      "[         0 1065353216 1073741824 1077936128 1082130432 1084227584\n",
      " 1086324736 1088421888 1090519040 1091567616]\n",
      "[0 1 2 3 4 5 6 7 8 9]\n",
      "[0.0e+00 1.4e-45 2.8e-45 4.2e-45 5.6e-45 7.0e-45 8.4e-45 9.8e-45 1.1e-44\n",
      " 1.3e-44]\n"
     ]
    }
   ],
   "source": [
    "# Preserving human-readable values? My initial thought was that the bits themselves\n",
    "# wouldn't change but the way they were interpreted would, ie 0.5f => 1056964608\n",
    "# Most solutions seem to attept converting in the arguably more natural way of 1.0f => 1\n",
    "# This makes sense, that's usually what most people would want\n",
    "\n",
    "# Very simple solution from https://www.kite.com/python/answers/how-to-convert-the-type-of-a-numpy-array-in-place-in-python\n",
    "# They claim it's in-place, using copy=False in astype seems to indicate it isn't allocating a new\n",
    "# array, but that's only on the condition that dtype, order, and subok requirements are met.\n",
    "# I could check something like id(), which as far as I can tell is the memory location if running\n",
    "# CPython. It's not clear what id is otherwise. Given that CPython is apparently the default version\n",
    "# and the version downloaded from python.org I assume that's what I have on my system.\n",
    "# So considering that the id of the array has changed after the cast, it suggests to me that new\n",
    "# memory has, in fact, been allocated.\n",
    "arr = np.arange(10, dtype='float32')\n",
    "print(arr)\n",
    "print(id(arr))\n",
    "arr = arr.astype('int32', copy=False)\n",
    "print(arr)\n",
    "print(id(arr))\n",
    "print()\n",
    "\n",
    "# According to https://stackoverflow.com/questions/4389517/in-place-type-conversion-of-a-numpy-array\n",
    "# This behaves more like my initial expectation, where the bit values themselves are left unchanged\n",
    "# It's also clearly setting values in the same memory location, as changes to one array are reflected\n",
    "# in the other. As such this method is capable of doing both types of conversion depending on what's\n",
    "# actually desired in the moment.\n",
    "arr = np.arange(10, dtype='float32')\n",
    "print(arr)\n",
    "iarr = arr.view('int32')\n",
    "print(iarr)\n",
    "iarr[:] = arr\n",
    "print(iarr)\n",
    "print(arr)\n",
    "\n",
    "# I just spent like 2 hours on this question, I don't know if I should include this time in the \"How \n",
    "# long did this section take\" box"
   ]
  },
  {
   "cell_type": "markdown",
   "metadata": {},
   "source": [
    "#### 59. How to sort an array by the nth column? (★★☆)"
   ]
  },
  {
   "cell_type": "code",
   "execution_count": 112,
   "metadata": {
    "collapsed": false,
    "jupyter": {
     "outputs_hidden": false
    }
   },
   "outputs": [
    {
     "name": "stdout",
     "output_type": "stream",
     "text": [
      "[[1 2 3]\n",
      " [2 3 1]\n",
      " [3 1 2]]\n",
      "[[3 1 2]\n",
      " [1 2 3]\n",
      " [2 3 1]]\n",
      "[[2 3 1]\n",
      " [3 1 2]\n",
      " [1 2 3]]\n"
     ]
    }
   ],
   "source": [
    "# Assuming a 2d array specifically\n",
    "def sortNth(arr, n):\n",
    "    # Slice out the desired column\n",
    "    # argsort will return the order of indexes\n",
    "    return arr[np.argsort(arr[:, n])]\n",
    "    \n",
    "arr = np.array([\n",
    "    [1, 2, 3],\n",
    "    [2, 3, 1],\n",
    "    [3, 1, 2]\n",
    "])\n",
    "print(arr)\n",
    "print(sortNth(arr, 1))\n",
    "print(sortNth(arr, 2))"
   ]
  },
  {
   "cell_type": "markdown",
   "metadata": {},
   "source": [
    "#### 60. How to tell if a given 2D array has null columns? (★★☆)"
   ]
  },
  {
   "cell_type": "code",
   "execution_count": 6,
   "metadata": {
    "collapsed": false,
    "jupyter": {
     "outputs_hidden": false
    }
   },
   "outputs": [
    {
     "name": "stdout",
     "output_type": "stream",
     "text": [
      "False\n",
      "True\n"
     ]
    }
   ],
   "source": [
    "# Null columns, aka a column with all 0s\n",
    "def hasNull(arr):\n",
    "    return not np.all(arr.any(axis=0))\n",
    "    \n",
    "arr1 = np.array([\n",
    "    [1, 1, 1, 0],\n",
    "    [0, 0, 1, 1],\n",
    "    [0, 1, 0, 0]\n",
    "])\n",
    "arr2 = np.array([\n",
    "    [1, 1, 0, 1],\n",
    "    [0, 0, 0, 1],\n",
    "    [0, 1, 0, 0]\n",
    "])\n",
    "print(hasNull(arr1))\n",
    "print(hasNull(arr2))"
   ]
  },
  {
   "cell_type": "markdown",
   "metadata": {},
   "source": [
    "#### 70. Consider the vector \\[1, 2, 3, 4, 5\\], how to build a new vector with 3 consecutive zeros interleaved between each value? (★★★)"
   ]
  },
  {
   "cell_type": "code",
   "execution_count": 16,
   "metadata": {
    "collapsed": false,
    "jupyter": {
     "outputs_hidden": false
    }
   },
   "outputs": [
    {
     "name": "stdout",
     "output_type": "stream",
     "text": [
      "[1 2 3 4 5]\n",
      "[1 0 0 0 2 0 0 0 3 0 0 0 4 0 0 0 5]\n",
      "[1 0 0 2 0 0 3 0 0 4 0 0 5]\n"
     ]
    }
   ],
   "source": [
    "start = np.array([1, 2, 3, 4, 5], dtype='int32')\n",
    "# Target: [1 0 0 0 2 0 0 0 3 0 0 0 4 0 0 0 5]\n",
    "print(start)\n",
    "\n",
    "# Can probably stack horizontally then reshape I suppose\n",
    "result = np.hstack([\n",
    "    start.reshape((5, 1)),\n",
    "    np.zeros((5, 3), dtype='int32')\n",
    "]).flatten()[:-3]\n",
    "print(result)\n",
    "\n",
    "# I like a more generic solution\n",
    "def interleave(arr, count):\n",
    "    transposed = arr[:, np.newaxis]\n",
    "    full = np.hstack([\n",
    "        transposed,\n",
    "        np.zeros((arr.size, count), dtype=arr.dtype)\n",
    "    ])\n",
    "    return full.flatten()[:-count]\n",
    "    \n",
    "print(interleave(start, 2))"
   ]
  },
  {
   "cell_type": "markdown",
   "metadata": {},
   "source": [
    "#### 72. How to swap two rows of an array? (★★★)"
   ]
  },
  {
   "cell_type": "code",
   "execution_count": 18,
   "metadata": {
    "collapsed": false,
    "jupyter": {
     "outputs_hidden": false
    }
   },
   "outputs": [
    {
     "name": "stdout",
     "output_type": "stream",
     "text": [
      "[[1 2]\n",
      " [3 4]\n",
      " [5 6]\n",
      " [7 8]]\n",
      "[[1 2]\n",
      " [7 8]\n",
      " [5 6]\n",
      " [3 4]]\n"
     ]
    }
   ],
   "source": [
    "# So basically\n",
    "# From [[1 2] [3 4] [5 6] [7 8]]\n",
    "# To   [[1 2] [7 8] [5 6] [3 4]]\n",
    "# would be swapping the 2nd and 4th rows\n",
    "def swap(arr, r1, r2):\n",
    "    # arr[r1], arr[r2] = arr[r2], arr[r1] The one-liner doesn't work\n",
    "    temp = np.copy(arr[r1])\n",
    "    arr[r1] = arr[r2]\n",
    "    arr[r2] = temp\n",
    "    \n",
    "start = np.arange(1, 9).reshape((4, 2))\n",
    "print(start)\n",
    "swap(start, 1, 3)\n",
    "print(start)"
   ]
  },
  {
   "cell_type": "markdown",
   "metadata": {},
   "source": [
    "#### 77. How to negate a boolean, or to change the sign of a float inplace? (★★★)"
   ]
  },
  {
   "cell_type": "code",
   "execution_count": 4,
   "metadata": {
    "collapsed": false,
    "jupyter": {
     "outputs_hidden": false
    }
   },
   "outputs": [
    {
     "name": "stdout",
     "output_type": "stream",
     "text": [
      "[ True  True False False  True False False  True]\n",
      "[False False  True  True False  True  True False]\n",
      "\n",
      "[ 1.1  2.2 -3.3 -4.4  5.5 -6.6 -7.7  8.8]\n",
      "[-1.1 -2.2  3.3  4.4 -5.5  6.6  7.7 -8.8]\n"
     ]
    }
   ],
   "source": [
    "# Should this be done on an array of values?\n",
    "# Just negate a single bool or float, as long as it's in-place?\n",
    "# Are these supposed to be the same action? Will it not work for say an int?\n",
    "\n",
    "\n",
    "# So apparently the *intended* solution is to negate an array of booleans, and\n",
    "# completely separately negate an array of floats. These two have nothing to\n",
    "# do with each other except you're doing a similar type of action in each case\n",
    "arr = np.array([True, True, False, False, True, False, False, True])\n",
    "print(arr)\n",
    "np.logical_not(arr, out=arr)\n",
    "print(arr)\n",
    "print()\n",
    "\n",
    "# Floats\n",
    "arr = np.array([1.1, 2.2, -3.3, -4.4, 5.5, -6.6, -7.7, 8.8])\n",
    "print(arr)\n",
    "np.negative(arr, out=arr)\n",
    "print(arr)"
   ]
  },
  {
   "cell_type": "markdown",
   "metadata": {},
   "source": [
    "#### 83. How to find the most frequent value in an array?"
   ]
  },
  {
   "cell_type": "code",
   "execution_count": 9,
   "metadata": {
    "collapsed": false,
    "jupyter": {
     "outputs_hidden": false
    }
   },
   "outputs": [
    {
     "name": "stdout",
     "output_type": "stream",
     "text": [
      "[3 1 0 5 4 4 0 5 0 4]\n",
      "[0 1 3 4 5] [3 1 1 3 2]\n",
      "0\n",
      "Most common value 0 with 3 occurrences\n"
     ]
    }
   ],
   "source": [
    "rng = np.random.default_rng()\n",
    "arr = rng.integers(6, size=10)\n",
    "print(arr)\n",
    "\n",
    "unique, counts = np.unique(arr, return_counts=True)\n",
    "print(unique, counts)\n",
    "i = counts.argmax()\n",
    "\n",
    "print(f\"Most common value {unique[i]} with {counts[i]} occurrences\")"
   ]
  },
  {
   "cell_type": "markdown",
   "metadata": {},
   "source": [
    "#### 89. How to get the n largest values of an array (★★★)"
   ]
  },
  {
   "cell_type": "code",
   "execution_count": 12,
   "metadata": {
    "collapsed": false,
    "jupyter": {
     "outputs_hidden": false
    }
   },
   "outputs": [
    {
     "name": "stdout",
     "output_type": "stream",
     "text": [
      "[ 6 26 95 35 25 87 74 93 36 78 76 67  0 21 71 36 85 74 13 75 93 73 57 40\n",
      " 24]\n",
      "[74 74 75 76 78 85 87 93 93 95]\n",
      "[ 6 26 95 35 25 87 74 93 36 78 76 67  0 21 71 36 85 74 13 75 93 73 57 40\n",
      " 24]\n"
     ]
    }
   ],
   "source": [
    "rng = np.random.default_rng()\n",
    "arr = rng.integers(100, size=25)\n",
    "print(arr)\n",
    "\n",
    "n = 10\n",
    "sort = np.sort(arr)\n",
    "print(sort[-n:])\n",
    "# Make sure arr itself hasn't changed\n",
    "print(arr)"
   ]
  },
  {
   "cell_type": "markdown",
   "metadata": {},
   "source": [
    "#### 96. Given a two dimensional array, how to extract unique rows? (★★★)"
   ]
  },
  {
   "cell_type": "code",
   "execution_count": 13,
   "metadata": {
    "collapsed": false,
    "jupyter": {
     "outputs_hidden": false
    }
   },
   "outputs": [
    {
     "name": "stdout",
     "output_type": "stream",
     "text": [
      "[[1 2 3]\n",
      " [4 5 6]\n",
      " [7 8 9]]\n"
     ]
    }
   ],
   "source": [
    "arr = np.array([\n",
    "    [1, 2, 3],\n",
    "    [4, 5, 6],\n",
    "    [1, 2, 3],\n",
    "    [7, 8, 9],\n",
    "    [4, 5, 6],\n",
    "    [1, 2, 3]\n",
    "])\n",
    "\n",
    "unique = np.unique(arr, axis=0)\n",
    "print(unique)"
   ]
  },
  {
   "cell_type": "code",
   "execution_count": null,
   "metadata": {},
   "outputs": [],
   "source": []
  }
 ],
 "metadata": {
  "kernelspec": {
   "display_name": "Python 3",
   "language": "python",
   "name": "python3"
  },
  "language_info": {
   "codemirror_mode": {
    "name": "ipython",
    "version": 3
   },
   "file_extension": ".py",
   "mimetype": "text/x-python",
   "name": "python",
   "nbconvert_exporter": "python",
   "pygments_lexer": "ipython3",
   "version": "3.8.8"
  }
 },
 "nbformat": 4,
 "nbformat_minor": 4
}
