{
 "cells": [
  {
   "cell_type": "code",
   "execution_count": 5,
   "id": "32b8486a-6c06-4f3b-a007-dcde2e0d708c",
   "metadata": {},
   "outputs": [
    {
     "name": "stdout",
     "output_type": "stream",
     "text": [
      "1\n",
      "(2, 3)\n",
      "{'a': 'a', 'b': 'b', 'c': 'c'}\n"
     ]
    }
   ],
   "source": [
    "def foo(first, *args, **kwargs):\n",
    "    print(first)\n",
    "    print(args)\n",
    "    print(kwargs)\n",
    "\n",
    "foo(1, 2, 3, a='a', b='b', c='c')"
   ]
  },
  {
   "cell_type": "code",
   "execution_count": 6,
   "id": "19644e57-b5e7-4b11-a96b-84c38fe15764",
   "metadata": {},
   "outputs": [
    {
     "name": "stdout",
     "output_type": "stream",
     "text": [
      "(1, 2, 3)\n",
      "{'a': 1, 'b': 2, 'c': 3}\n"
     ]
    }
   ],
   "source": [
    "def bar(*args, **kwargs):\n",
    "    print(args)\n",
    "    print(kwargs)\n",
    "    \n",
    "a = [ 1, 2, 3 ]\n",
    "b = { 'a': 1, 'b': 2, 'c': 3 }\n",
    "\n",
    "bar(*a, **b)"
   ]
  },
  {
   "cell_type": "code",
   "execution_count": null,
   "id": "73943fb9-d3c3-4aff-8934-3c79b5a2594f",
   "metadata": {},
   "outputs": [],
   "source": []
  }
 ],
 "metadata": {
  "kernelspec": {
   "display_name": "Python 3",
   "language": "python",
   "name": "python3"
  },
  "language_info": {
   "codemirror_mode": {
    "name": "ipython",
    "version": 3
   },
   "file_extension": ".py",
   "mimetype": "text/x-python",
   "name": "python",
   "nbconvert_exporter": "python",
   "pygments_lexer": "ipython3",
   "version": "3.8.8"
  }
 },
 "nbformat": 4,
 "nbformat_minor": 5
}
